{
 "cells": [
  {
   "cell_type": "markdown",
   "metadata": {},
   "source": [
    "# ROS2 bag file converter"
   ]
  },
  {
   "cell_type": "markdown",
   "metadata": {},
   "source": [
    "## Imports and variables"
   ]
  },
  {
   "cell_type": "code",
   "execution_count": null,
   "metadata": {},
   "outputs": [],
   "source": [
    "import os\n",
    "from pathlib import Path\n",
    "\n",
    "from rosbags.dataframe import get_dataframe\n",
    "from rosbags.highlevel import AnyReader\n",
    "from rosbags.typesys import get_types_from_msg, register_types\n",
    "\n",
    "workspace_dir='/home/hugobaptista/ros2/ccpm'\n",
    "bag_dir='IMU-rosbag_11032024'\n",
    "save_dir='IMU-data'\n",
    "\n",
    "# Add all topic message types to the reader's registered types\n",
    "add_types = {}\n",
    "for filename in os.listdir(f'{workspace_dir}/src/ccpm_msgs/msg'):\n",
    "    text = Path(f'{workspace_dir}/src/ccpm_msgs/msg/{filename}').read_text()\n",
    "    name=f'ccpm_msgs/msg/{filename.split(\".\")[0]}'\n",
    "    add_types.update(get_types_from_msg(text, name))\n",
    "register_types(add_types)"
   ]
  },
  {
   "cell_type": "markdown",
   "metadata": {},
   "source": [
    "## Convert from bag to Pandas dataframe"
   ]
  },
  {
   "cell_type": "code",
   "execution_count": null,
   "metadata": {},
   "outputs": [],
   "source": [
    "def convert_index_to_timestamp_column(df):\n",
    "    df.reset_index(inplace=True)\n",
    "    df.rename(columns={'index': 'timestamp'}, inplace=True)\n",
    "\n",
    "topics={}\n",
    "dataframes={}\n",
    "with AnyReader([Path(f'{workspace_dir}/{bag_dir}')]) as reader:\n",
    "    # The 'topics' dictionary's keys are the topics names and the values are their arguments (list)\n",
    "    for connection in reader.connections:\n",
    "        keys = []\n",
    "        for field in reader.typestore.FIELDDEFS[connection.msgtype][1]:\n",
    "            keys.append(field[0])\n",
    "        topics[connection.topic]=keys\n",
    "\n",
    "    # The 'dataframes' dictionary's keys are the topics names and the values are their pandas dataframe\n",
    "    for topic in topics:\n",
    "        dataframes[topic]=get_dataframe(reader, topic, topics.get(topic))\n",
    "        convert_index_to_timestamp_column(dataframes[topic])\n",
    "\n",
    "for topic in dataframes:\n",
    "    print(f'Topic: {topic}\\nDataframe:{dataframes[topic].head}\\n-----------------------------------------\\n')"
   ]
  },
  {
   "cell_type": "markdown",
   "metadata": {},
   "source": [
    "## Save the Pandas dataframes as csv files"
   ]
  },
  {
   "cell_type": "code",
   "execution_count": null,
   "metadata": {},
   "outputs": [],
   "source": [
    "for topic in dataframes:\n",
    "    new_file=f'{workspace_dir}/{save_dir}/csv/{topic[1:].replace(\"/\", \"_\")}.csv'\n",
    "    dataframes[topic].to_csv(new_file, index=False)\n",
    "    print(f'The topic {topic} was saved as {new_file}')"
   ]
  }
 ],
 "metadata": {
  "kernelspec": {
   "display_name": "Python 3",
   "language": "python",
   "name": "python3"
  },
  "language_info": {
   "codemirror_mode": {
    "name": "ipython",
    "version": 3
   },
   "file_extension": ".py",
   "mimetype": "text/x-python",
   "name": "python",
   "nbconvert_exporter": "python",
   "pygments_lexer": "ipython3",
   "version": "3.10.12"
  }
 },
 "nbformat": 4,
 "nbformat_minor": 2
}
